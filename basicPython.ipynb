{
 "cells": [
  {
   "cell_type": "code",
   "execution_count": 1,
   "metadata": {},
   "outputs": [
    {
     "name": "stderr",
     "output_type": "stream",
     "text": [
      "C:\\Users\\rayir\\AppData\\Local\\Temp\\ipykernel_3588\\3467091845.py:2: DeprecationWarning: \n",
      "Pyarrow will become a required dependency of pandas in the next major release of pandas (pandas 3.0),\n",
      "(to allow more performant data types, such as the Arrow string type, and better interoperability with other libraries)\n",
      "but was not found to be installed on your system.\n",
      "If this would cause problems for you,\n",
      "please provide us feedback at https://github.com/pandas-dev/pandas/issues/54466\n",
      "        \n",
      "  import pandas as pd\n"
     ]
    }
   ],
   "source": [
    "import numpy as np\n",
    "import pandas as pd\n",
    "import matplotlib.pyplot as plt\n",
    "from IPython.core.interactiveshell import InteractiveShell\n",
    "InteractiveShell.ast_node_interactivity = 'all'"
   ]
  },
  {
   "cell_type": "code",
   "execution_count": 2,
   "metadata": {},
   "outputs": [],
   "source": [
    "# list has sublist which has site and number of sample at each site\n",
    "\n",
    "data = [['A1', 28], ['A2', 32], ['A3', 1], ['A4', 0],\n",
    "        ['A5', 10], ['A6', 22], ['A7', 30], ['A8', 19],\n",
    "        ['B1', 145], ['B2', 27], ['B3', 36], ['B4', 25],\n",
    "        ['B5', 9], ['B6', 38], ['B7', 21], ['B8', 12],\n",
    "        ['C1', 122], ['C2', 87], ['C3', 36], ['C4', 3],\n",
    "        ['D1', 0], ['D2', 5], ['D3', 55], ['D4', 62],\n",
    "        ['D5', 98], ['D6', 32]]"
   ]
  },
  {
   "cell_type": "markdown",
   "metadata": {},
   "source": [
    "# Basic Python 1"
   ]
  },
  {
   "cell_type": "code",
   "execution_count": 3,
   "metadata": {},
   "outputs": [
    {
     "data": {
      "text/plain": [
       "26"
      ]
     },
     "execution_count": 3,
     "metadata": {},
     "output_type": "execute_result"
    },
    {
     "data": {
      "text/plain": [
       "19"
      ]
     },
     "execution_count": 3,
     "metadata": {},
     "output_type": "execute_result"
    },
    {
     "data": {
      "text/plain": [
       "32"
      ]
     },
     "execution_count": 3,
     "metadata": {},
     "output_type": "execute_result"
    },
    {
     "data": {
      "text/plain": [
       "955"
      ]
     },
     "execution_count": 3,
     "metadata": {},
     "output_type": "execute_result"
    },
    {
     "name": "stdout",
     "output_type": "stream",
     "text": [
      "[0.02931937172774869, 0.033507853403141365, 0.0010471204188481676, 0.0, 0.010471204188481676, 0.023036649214659685, 0.031413612565445025, 0.019895287958115182, 0.1518324607329843, 0.028272251308900525, 0.03769633507853403, 0.02617801047120419, 0.009424083769633508, 0.039790575916230364, 0.02198952879581152, 0.012565445026178011, 0.12774869109947645, 0.09109947643979058, 0.03769633507853403, 0.0031413612565445027, 0.0, 0.005235602094240838, 0.05759162303664921, 0.06492146596858639, 0.10261780104712041, 0.033507853403141365]\n"
     ]
    },
    {
     "data": {
      "text/plain": [
       "248"
      ]
     },
     "execution_count": 3,
     "metadata": {},
     "output_type": "execute_result"
    }
   ],
   "source": [
    "# How many sites are there ?\n",
    "site_lst = [sublist[0] for sublist in data]\n",
    "len(list(set(site_lst)))\n",
    "# How many birds were counted at the 7th site?\n",
    "data[7][1]\n",
    "# How many birds were counted at the last site?\n",
    "data[-1][1]\n",
    "# What is the total number of birds counted across all sites?\n",
    "pop_lst = [sublist[1] for sublist in data]\n",
    "total_pop = sum(pop_lst)\n",
    "total_pop\n",
    "# What is the average number of birds seen on a site?\n",
    "avg_lst = [sublist[1]/total_pop for sublist in data]\n",
    "print(avg_lst)\n",
    "# What is the total number of birds counted on sites with codes beginning with C? \n",
    "c_pop_lst = [sublist[1] for sublist in data if sublist[0].startswith('C')]\n",
    "sum(c_pop_lst)"
   ]
  },
  {
   "cell_type": "markdown",
   "metadata": {},
   "source": [
    "# Basic Python 2"
   ]
  },
  {
   "cell_type": "code",
   "execution_count": 4,
   "metadata": {},
   "outputs": [],
   "source": [
    "def read_data(filename):\n",
    "    df = pd.read_csv(filename)\n",
    "    return df"
   ]
  },
  {
   "cell_type": "code",
   "execution_count": 7,
   "metadata": {},
   "outputs": [],
   "source": [
    "df = read_data(r'houseelf_earlength_dna_data.csv')"
   ]
  },
  {
   "cell_type": "code",
   "execution_count": 8,
   "metadata": {},
   "outputs": [
    {
     "data": {
      "text/html": [
       "<div>\n",
       "<style scoped>\n",
       "    .dataframe tbody tr th:only-of-type {\n",
       "        vertical-align: middle;\n",
       "    }\n",
       "\n",
       "    .dataframe tbody tr th {\n",
       "        vertical-align: top;\n",
       "    }\n",
       "\n",
       "    .dataframe thead th {\n",
       "        text-align: right;\n",
       "    }\n",
       "</style>\n",
       "<table border=\"1\" class=\"dataframe\">\n",
       "  <thead>\n",
       "    <tr style=\"text-align: right;\">\n",
       "      <th></th>\n",
       "      <th>id</th>\n",
       "      <th>earlength</th>\n",
       "      <th>dnaseq</th>\n",
       "    </tr>\n",
       "  </thead>\n",
       "  <tbody>\n",
       "    <tr>\n",
       "      <th>0</th>\n",
       "      <td>17A</td>\n",
       "      <td>5.1</td>\n",
       "      <td>CCGCATCTTGACTTAACTGACATATTACCATAGATGACTAGCCATG...</td>\n",
       "    </tr>\n",
       "    <tr>\n",
       "      <th>1</th>\n",
       "      <td>24P</td>\n",
       "      <td>7.5</td>\n",
       "      <td>GCTATGACTTGCTTAGCTACGTATGAAGGAAGAAACTTTTGTGTAT...</td>\n",
       "    </tr>\n",
       "    <tr>\n",
       "      <th>2</th>\n",
       "      <td>09Q</td>\n",
       "      <td>12.2</td>\n",
       "      <td>CCGCCGATTGATACAGGGGACGGTGACGTCGTCATAGATTCGGCAC...</td>\n",
       "    </tr>\n",
       "    <tr>\n",
       "      <th>3</th>\n",
       "      <td>65Y</td>\n",
       "      <td>9.9</td>\n",
       "      <td>GCAGGAGAAGTTCTTAACCTTCTCGTAGGACGTCAACCTATTCTTT...</td>\n",
       "    </tr>\n",
       "    <tr>\n",
       "      <th>4</th>\n",
       "      <td>19N</td>\n",
       "      <td>10.0</td>\n",
       "      <td>TCTTCATCCTTATCAAAGTTTGGAGTCAATGATCAGGATTATTGCC...</td>\n",
       "    </tr>\n",
       "    <tr>\n",
       "      <th>5</th>\n",
       "      <td>92K</td>\n",
       "      <td>14.6</td>\n",
       "      <td>ACCGATGGACAATGATTCGGGTAGCACCAGGAGTCCGTAGCGCGTG...</td>\n",
       "    </tr>\n",
       "    <tr>\n",
       "      <th>6</th>\n",
       "      <td>33W</td>\n",
       "      <td>8.2</td>\n",
       "      <td>CAGCTTGACTCGGTCTGTTAGGCCACGATTACGTGAGTTAGGGCTC...</td>\n",
       "    </tr>\n",
       "    <tr>\n",
       "      <th>7</th>\n",
       "      <td>98C</td>\n",
       "      <td>17.8</td>\n",
       "      <td>CTGCATGCTAGGTTGACACGCCTGCACTGCTCGAAGAAAATATGCG...</td>\n",
       "    </tr>\n",
       "    <tr>\n",
       "      <th>8</th>\n",
       "      <td>75G</td>\n",
       "      <td>9.4</td>\n",
       "      <td>CTTATTTAGATAACATGATTAGCCGAAGTTGTACGGGATATCCACC...</td>\n",
       "    </tr>\n",
       "    <tr>\n",
       "      <th>9</th>\n",
       "      <td>88Q</td>\n",
       "      <td>11.3</td>\n",
       "      <td>GATTGCTCGCACATGAGCAAAACGGTAGAGCGTCACTTTCAGCCCT...</td>\n",
       "    </tr>\n",
       "  </tbody>\n",
       "</table>\n",
       "</div>"
      ],
      "text/plain": [
       "    id  earlength                                             dnaseq\n",
       "0  17A        5.1  CCGCATCTTGACTTAACTGACATATTACCATAGATGACTAGCCATG...\n",
       "1  24P        7.5  GCTATGACTTGCTTAGCTACGTATGAAGGAAGAAACTTTTGTGTAT...\n",
       "2  09Q       12.2  CCGCCGATTGATACAGGGGACGGTGACGTCGTCATAGATTCGGCAC...\n",
       "3  65Y        9.9  GCAGGAGAAGTTCTTAACCTTCTCGTAGGACGTCAACCTATTCTTT...\n",
       "4  19N       10.0  TCTTCATCCTTATCAAAGTTTGGAGTCAATGATCAGGATTATTGCC...\n",
       "5  92K       14.6  ACCGATGGACAATGATTCGGGTAGCACCAGGAGTCCGTAGCGCGTG...\n",
       "6  33W        8.2  CAGCTTGACTCGGTCTGTTAGGCCACGATTACGTGAGTTAGGGCTC...\n",
       "7  98C       17.8  CTGCATGCTAGGTTGACACGCCTGCACTGCTCGAAGAAAATATGCG...\n",
       "8  75G        9.4  CTTATTTAGATAACATGATTAGCCGAAGTTGTACGGGATATCCACC...\n",
       "9  88Q       11.3  GATTGCTCGCACATGAGCAAAACGGTAGAGCGTCACTTTCAGCCCT..."
      ]
     },
     "execution_count": 8,
     "metadata": {},
     "output_type": "execute_result"
    }
   ],
   "source": [
    "df"
   ]
  },
  {
   "cell_type": "code",
   "execution_count": 9,
   "metadata": {},
   "outputs": [],
   "source": [
    "def get_ear_size(df):\n",
    "    if df['earlength'] > 10:\n",
    "        return 'large'\n",
    "    else:\n",
    "        return 'small'"
   ]
  },
  {
   "cell_type": "code",
   "execution_count": 10,
   "metadata": {},
   "outputs": [],
   "source": [
    "ans_df = pd.DataFrame()\n",
    "ans_df['id'] = df['id']\n",
    "ans_df['earsize'] = df.apply(get_ear_size,axis=1)"
   ]
  },
  {
   "cell_type": "code",
   "execution_count": 11,
   "metadata": {},
   "outputs": [
    {
     "data": {
      "text/html": [
       "<div>\n",
       "<style scoped>\n",
       "    .dataframe tbody tr th:only-of-type {\n",
       "        vertical-align: middle;\n",
       "    }\n",
       "\n",
       "    .dataframe tbody tr th {\n",
       "        vertical-align: top;\n",
       "    }\n",
       "\n",
       "    .dataframe thead th {\n",
       "        text-align: right;\n",
       "    }\n",
       "</style>\n",
       "<table border=\"1\" class=\"dataframe\">\n",
       "  <thead>\n",
       "    <tr style=\"text-align: right;\">\n",
       "      <th></th>\n",
       "      <th>id</th>\n",
       "      <th>earsize</th>\n",
       "    </tr>\n",
       "  </thead>\n",
       "  <tbody>\n",
       "    <tr>\n",
       "      <th>0</th>\n",
       "      <td>17A</td>\n",
       "      <td>small</td>\n",
       "    </tr>\n",
       "    <tr>\n",
       "      <th>1</th>\n",
       "      <td>24P</td>\n",
       "      <td>small</td>\n",
       "    </tr>\n",
       "    <tr>\n",
       "      <th>2</th>\n",
       "      <td>09Q</td>\n",
       "      <td>large</td>\n",
       "    </tr>\n",
       "    <tr>\n",
       "      <th>3</th>\n",
       "      <td>65Y</td>\n",
       "      <td>small</td>\n",
       "    </tr>\n",
       "    <tr>\n",
       "      <th>4</th>\n",
       "      <td>19N</td>\n",
       "      <td>small</td>\n",
       "    </tr>\n",
       "    <tr>\n",
       "      <th>5</th>\n",
       "      <td>92K</td>\n",
       "      <td>large</td>\n",
       "    </tr>\n",
       "    <tr>\n",
       "      <th>6</th>\n",
       "      <td>33W</td>\n",
       "      <td>small</td>\n",
       "    </tr>\n",
       "    <tr>\n",
       "      <th>7</th>\n",
       "      <td>98C</td>\n",
       "      <td>large</td>\n",
       "    </tr>\n",
       "    <tr>\n",
       "      <th>8</th>\n",
       "      <td>75G</td>\n",
       "      <td>small</td>\n",
       "    </tr>\n",
       "    <tr>\n",
       "      <th>9</th>\n",
       "      <td>88Q</td>\n",
       "      <td>large</td>\n",
       "    </tr>\n",
       "  </tbody>\n",
       "</table>\n",
       "</div>"
      ],
      "text/plain": [
       "    id earsize\n",
       "0  17A   small\n",
       "1  24P   small\n",
       "2  09Q   large\n",
       "3  65Y   small\n",
       "4  19N   small\n",
       "5  92K   large\n",
       "6  33W   small\n",
       "7  98C   large\n",
       "8  75G   small\n",
       "9  88Q   large"
      ]
     },
     "execution_count": 11,
     "metadata": {},
     "output_type": "execute_result"
    }
   ],
   "source": [
    "ans_df"
   ]
  },
  {
   "cell_type": "code",
   "execution_count": 13,
   "metadata": {},
   "outputs": [],
   "source": [
    "def get_gc_percent(df):\n",
    "    \n",
    "    obj_dnaseq = df['dnaseq']\n",
    "    g_num = obj_dnaseq.count('G')\n",
    "    c_num = obj_dnaseq.count('C')\n",
    "    total_length = len(obj_dnaseq)\n",
    "    gc_dict = {'G_percent' : g_num/total_length * 100, 'C_percent' : c_num/total_length * 100}\n",
    "    return gc_dict\n",
    "    "
   ]
  },
  {
   "cell_type": "code",
   "execution_count": 14,
   "metadata": {},
   "outputs": [
    {
     "data": {
      "text/html": [
       "<div>\n",
       "<style scoped>\n",
       "    .dataframe tbody tr th:only-of-type {\n",
       "        vertical-align: middle;\n",
       "    }\n",
       "\n",
       "    .dataframe tbody tr th {\n",
       "        vertical-align: top;\n",
       "    }\n",
       "\n",
       "    .dataframe thead th {\n",
       "        text-align: right;\n",
       "    }\n",
       "</style>\n",
       "<table border=\"1\" class=\"dataframe\">\n",
       "  <thead>\n",
       "    <tr style=\"text-align: right;\">\n",
       "      <th></th>\n",
       "      <th>id</th>\n",
       "      <th>earsize</th>\n",
       "      <th>gc_perc</th>\n",
       "    </tr>\n",
       "  </thead>\n",
       "  <tbody>\n",
       "    <tr>\n",
       "      <th>0</th>\n",
       "      <td>17A</td>\n",
       "      <td>small</td>\n",
       "      <td>{'G_percent': 20.0, 'C_percent': 21.0}</td>\n",
       "    </tr>\n",
       "    <tr>\n",
       "      <th>1</th>\n",
       "      <td>24P</td>\n",
       "      <td>small</td>\n",
       "      <td>{'G_percent': 22.0, 'C_percent': 17.0}</td>\n",
       "    </tr>\n",
       "    <tr>\n",
       "      <th>2</th>\n",
       "      <td>09Q</td>\n",
       "      <td>large</td>\n",
       "      <td>{'G_percent': 30.0, 'C_percent': 27.0}</td>\n",
       "    </tr>\n",
       "    <tr>\n",
       "      <th>3</th>\n",
       "      <td>65Y</td>\n",
       "      <td>small</td>\n",
       "      <td>{'G_percent': 19.0, 'C_percent': 21.0}</td>\n",
       "    </tr>\n",
       "    <tr>\n",
       "      <th>4</th>\n",
       "      <td>19N</td>\n",
       "      <td>small</td>\n",
       "      <td>{'G_percent': 17.0, 'C_percent': 19.0}</td>\n",
       "    </tr>\n",
       "    <tr>\n",
       "      <th>5</th>\n",
       "      <td>92K</td>\n",
       "      <td>large</td>\n",
       "      <td>{'G_percent': 33.0, 'C_percent': 28.9999999999...</td>\n",
       "    </tr>\n",
       "    <tr>\n",
       "      <th>6</th>\n",
       "      <td>33W</td>\n",
       "      <td>small</td>\n",
       "      <td>{'G_percent': 24.0, 'C_percent': 28.0000000000...</td>\n",
       "    </tr>\n",
       "    <tr>\n",
       "      <th>7</th>\n",
       "      <td>98C</td>\n",
       "      <td>large</td>\n",
       "      <td>{'G_percent': 32.0, 'C_percent': 31.0}</td>\n",
       "    </tr>\n",
       "    <tr>\n",
       "      <th>8</th>\n",
       "      <td>75G</td>\n",
       "      <td>small</td>\n",
       "      <td>{'G_percent': 20.0, 'C_percent': 27.0}</td>\n",
       "    </tr>\n",
       "    <tr>\n",
       "      <th>9</th>\n",
       "      <td>88Q</td>\n",
       "      <td>large</td>\n",
       "      <td>{'G_percent': 27.0, 'C_percent': 25.0}</td>\n",
       "    </tr>\n",
       "  </tbody>\n",
       "</table>\n",
       "</div>"
      ],
      "text/plain": [
       "    id earsize                                            gc_perc\n",
       "0  17A   small             {'G_percent': 20.0, 'C_percent': 21.0}\n",
       "1  24P   small             {'G_percent': 22.0, 'C_percent': 17.0}\n",
       "2  09Q   large             {'G_percent': 30.0, 'C_percent': 27.0}\n",
       "3  65Y   small             {'G_percent': 19.0, 'C_percent': 21.0}\n",
       "4  19N   small             {'G_percent': 17.0, 'C_percent': 19.0}\n",
       "5  92K   large  {'G_percent': 33.0, 'C_percent': 28.9999999999...\n",
       "6  33W   small  {'G_percent': 24.0, 'C_percent': 28.0000000000...\n",
       "7  98C   large             {'G_percent': 32.0, 'C_percent': 31.0}\n",
       "8  75G   small             {'G_percent': 20.0, 'C_percent': 27.0}\n",
       "9  88Q   large             {'G_percent': 27.0, 'C_percent': 25.0}"
      ]
     },
     "execution_count": 14,
     "metadata": {},
     "output_type": "execute_result"
    }
   ],
   "source": [
    "ans_df['gc_perc'] = df.apply(get_gc_percent,axis=1)\n",
    "ans_df"
   ]
  },
  {
   "cell_type": "code",
   "execution_count": 20,
   "metadata": {},
   "outputs": [],
   "source": [
    "def get_avg_gc_percent(df):\n",
    "    \n",
    "    small_df = df[df['earsize'] == 'small']\n",
    "    large_df = df[df['earsize'] == 'large']\n",
    "    \n",
    "    small_g_avg_perc = small_df['gc_perc'].apply(lambda x : x['G_percent']).mean()\n",
    "    small_c_avg_perc = small_df['gc_perc'].apply(lambda x : x['C_percent']).mean()\n",
    "    \n",
    "    large_g_avg_perc = large_df['gc_perc'].apply(lambda x : x['G_percent']).mean()\n",
    "    large_c_avg_perc = large_df['gc_perc'].apply(lambda x : x['C_percent']).mean()\n",
    "    \n",
    "    return small_g_avg_perc,small_c_avg_perc,large_g_avg_perc,large_c_avg_perc"
   ]
  },
  {
   "cell_type": "code",
   "execution_count": 21,
   "metadata": {},
   "outputs": [],
   "source": [
    "small_g_avg_perc,small_c_avg_perc,large_g_avg_perc,large_c_avg_perc = get_avg_gc_percent(ans_df)"
   ]
  },
  {
   "cell_type": "code",
   "execution_count": 23,
   "metadata": {},
   "outputs": [
    {
     "name": "stdout",
     "output_type": "stream",
     "text": [
      "Avg G percent for small ear : 20.333333333333332\n",
      "Avg C percent for small ear : 22.166666666666668\n",
      "Avg G percent for large ear : 30.5\n",
      "Avg G percent for large ear : 28.0\n"
     ]
    }
   ],
   "source": [
    "print(f'Avg G percent for small ear : {small_g_avg_perc}\\nAvg C percent for small ear : {small_c_avg_perc}')\n",
    "print(f'Avg G percent for large ear : {large_g_avg_perc}\\nAvg G percent for large ear : {large_c_avg_perc}')"
   ]
  },
  {
   "cell_type": "code",
   "execution_count": 24,
   "metadata": {},
   "outputs": [],
   "source": [
    "ans_df.to_csv('granger_analysis.csv')"
   ]
  },
  {
   "cell_type": "code",
   "execution_count": null,
   "metadata": {},
   "outputs": [],
   "source": []
  }
 ],
 "metadata": {
  "kernelspec": {
   "display_name": "Python 3",
   "language": "python",
   "name": "python3"
  },
  "language_info": {
   "codemirror_mode": {
    "name": "ipython",
    "version": 3
   },
   "file_extension": ".py",
   "mimetype": "text/x-python",
   "name": "python",
   "nbconvert_exporter": "python",
   "pygments_lexer": "ipython3",
   "version": "3.12.2"
  }
 },
 "nbformat": 4,
 "nbformat_minor": 2
}
