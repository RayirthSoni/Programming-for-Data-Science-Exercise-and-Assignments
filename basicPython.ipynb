{
 "cells": [
  {
   "cell_type": "code",
   "execution_count": 2,
   "metadata": {},
   "outputs": [
    {
     "name": "stderr",
     "output_type": "stream",
     "text": [
      "C:\\Users\\rayir\\AppData\\Local\\Temp\\ipykernel_4848\\3467091845.py:2: DeprecationWarning: \n",
      "Pyarrow will become a required dependency of pandas in the next major release of pandas (pandas 3.0),\n",
      "(to allow more performant data types, such as the Arrow string type, and better interoperability with other libraries)\n",
      "but was not found to be installed on your system.\n",
      "If this would cause problems for you,\n",
      "please provide us feedback at https://github.com/pandas-dev/pandas/issues/54466\n",
      "        \n",
      "  import pandas as pd\n"
     ]
    }
   ],
   "source": [
    "import numpy as np\n",
    "import pandas as pd\n",
    "import matplotlib.pyplot as plt\n",
    "from IPython.core.interactiveshell import InteractiveShell\n",
    "InteractiveShell.ast_node_interactivity = 'all'"
   ]
  },
  {
   "cell_type": "code",
   "execution_count": 1,
   "metadata": {},
   "outputs": [],
   "source": [
    "# list has sublist which has site and number of sample at each site\n",
    "\n",
    "data = [['A1', 28], ['A2', 32], ['A3', 1], ['A4', 0],\n",
    "        ['A5', 10], ['A6', 22], ['A7', 30], ['A8', 19],\n",
    "        ['B1', 145], ['B2', 27], ['B3', 36], ['B4', 25],\n",
    "        ['B5', 9], ['B6', 38], ['B7', 21], ['B8', 12],\n",
    "        ['C1', 122], ['C2', 87], ['C3', 36], ['C4', 3],\n",
    "        ['D1', 0], ['D2', 5], ['D3', 55], ['D4', 62],\n",
    "        ['D5', 98], ['D6', 32]]"
   ]
  },
  {
   "cell_type": "code",
   "execution_count": 26,
   "metadata": {},
   "outputs": [
    {
     "data": {
      "text/plain": [
       "26"
      ]
     },
     "execution_count": 26,
     "metadata": {},
     "output_type": "execute_result"
    },
    {
     "data": {
      "text/plain": [
       "19"
      ]
     },
     "execution_count": 26,
     "metadata": {},
     "output_type": "execute_result"
    },
    {
     "data": {
      "text/plain": [
       "32"
      ]
     },
     "execution_count": 26,
     "metadata": {},
     "output_type": "execute_result"
    },
    {
     "data": {
      "text/plain": [
       "955"
      ]
     },
     "execution_count": 26,
     "metadata": {},
     "output_type": "execute_result"
    },
    {
     "name": "stdout",
     "output_type": "stream",
     "text": [
      "[0.02931937172774869, 0.033507853403141365, 0.0010471204188481676, 0.0, 0.010471204188481676, 0.023036649214659685, 0.031413612565445025, 0.019895287958115182, 0.1518324607329843, 0.028272251308900525, 0.03769633507853403, 0.02617801047120419, 0.009424083769633508, 0.039790575916230364, 0.02198952879581152, 0.012565445026178011, 0.12774869109947645, 0.09109947643979058, 0.03769633507853403, 0.0031413612565445027, 0.0, 0.005235602094240838, 0.05759162303664921, 0.06492146596858639, 0.10261780104712041, 0.033507853403141365]\n"
     ]
    },
    {
     "data": {
      "text/plain": [
       "248"
      ]
     },
     "execution_count": 26,
     "metadata": {},
     "output_type": "execute_result"
    }
   ],
   "source": [
    "# How many sites are there ?\n",
    "site_lst = [sublist[0] for sublist in data]\n",
    "len(list(set(site_lst)))\n",
    "# How many birds were counted at the 7th site?\n",
    "data[7][1]\n",
    "# How many birds were counted at the last site?\n",
    "data[-1][1]\n",
    "# What is the total number of birds counted across all sites?\n",
    "pop_lst = [sublist[1] for sublist in data]\n",
    "total_pop = sum(pop_lst)\n",
    "total_pop\n",
    "# What is the average number of birds seen on a site?\n",
    "avg_lst = [sublist[1]/total_pop for sublist in data]\n",
    "print(avg_lst)\n",
    "# What is the total number of birds counted on sites with codes beginning with C? \n",
    "c_pop_lst = [sublist[1] for sublist in data if sublist[0].startswith('C')]\n",
    "sum(c_pop_lst)"
   ]
  },
  {
   "cell_type": "code",
   "execution_count": null,
   "metadata": {},
   "outputs": [],
   "source": []
  }
 ],
 "metadata": {
  "kernelspec": {
   "display_name": "Python 3",
   "language": "python",
   "name": "python3"
  },
  "language_info": {
   "codemirror_mode": {
    "name": "ipython",
    "version": 3
   },
   "file_extension": ".py",
   "mimetype": "text/x-python",
   "name": "python",
   "nbconvert_exporter": "python",
   "pygments_lexer": "ipython3",
   "version": "3.12.2"
  }
 },
 "nbformat": 4,
 "nbformat_minor": 2
}
